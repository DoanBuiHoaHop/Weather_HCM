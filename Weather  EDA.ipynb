{
 "cells": [
  {
   "cell_type": "markdown",
   "metadata": {
    "id": "EDukOHe7qEpl"
   },
   "source": [
    "<h1>Step 2: Preprocessing & EDA</h1>\n",
    "\n",
    "1.   List item\n",
    "2.   List item\n",
    "\n"
   ]
  },
  {
   "cell_type": "markdown",
   "metadata": {
    "id": "VYYbpeI5qEpo"
   },
   "source": [
    "---"
   ]
  },
  {
   "cell_type": "code",
   "execution_count": 1,
   "metadata": {
    "colab": {
     "base_uri": "https://localhost:8080/"
    },
    "executionInfo": {
     "elapsed": 4938,
     "status": "ok",
     "timestamp": 1734838818802,
     "user": {
      "displayName": "hoahop Doan",
      "userId": "00193743421720716536"
     },
     "user_tz": -420
    },
    "id": "xJjSWP6SYDAy",
    "outputId": "057240a5-8d85-4666-aef4-00cd0a5b1f4c"
   },
   "outputs": [
    {
     "name": "stdout",
     "output_type": "stream",
     "text": [
      "Requirement already satisfied: matplotlib in c:\\users\\doanh\\anaconda3\\envs\\myenv\\lib\\site-packages (3.10.1)\n",
      "Requirement already satisfied: contourpy>=1.0.1 in c:\\users\\doanh\\anaconda3\\envs\\myenv\\lib\\site-packages (from matplotlib) (1.3.2)\n",
      "Requirement already satisfied: cycler>=0.10 in c:\\users\\doanh\\anaconda3\\envs\\myenv\\lib\\site-packages (from matplotlib) (0.12.1)\n",
      "Requirement already satisfied: fonttools>=4.22.0 in c:\\users\\doanh\\anaconda3\\envs\\myenv\\lib\\site-packages (from matplotlib) (4.57.0)\n",
      "Requirement already satisfied: kiwisolver>=1.3.1 in c:\\users\\doanh\\anaconda3\\envs\\myenv\\lib\\site-packages (from matplotlib) (1.4.8)\n",
      "Requirement already satisfied: numpy>=1.23 in c:\\users\\doanh\\anaconda3\\envs\\myenv\\lib\\site-packages (from matplotlib) (1.26.4)\n",
      "Requirement already satisfied: packaging>=20.0 in c:\\users\\doanh\\anaconda3\\envs\\myenv\\lib\\site-packages (from matplotlib) (24.2)\n",
      "Requirement already satisfied: pillow>=8 in c:\\users\\doanh\\anaconda3\\envs\\myenv\\lib\\site-packages (from matplotlib) (11.2.1)\n",
      "Requirement already satisfied: pyparsing>=2.3.1 in c:\\users\\doanh\\anaconda3\\envs\\myenv\\lib\\site-packages (from matplotlib) (3.2.3)\n",
      "Requirement already satisfied: python-dateutil>=2.7 in c:\\users\\doanh\\anaconda3\\envs\\myenv\\lib\\site-packages (from matplotlib) (2.9.0.post0)\n",
      "Requirement already satisfied: six>=1.5 in c:\\users\\doanh\\anaconda3\\envs\\myenv\\lib\\site-packages (from python-dateutil>=2.7->matplotlib) (1.17.0)\n"
     ]
    }
   ],
   "source": [
    "! pip install matplotlib"
   ]
  },
  {
   "cell_type": "code",
   "execution_count": 2,
   "metadata": {
    "colab": {
     "base_uri": "https://localhost:8080/"
    },
    "executionInfo": {
     "elapsed": 3325,
     "status": "ok",
     "timestamp": 1734838863949,
     "user": {
      "displayName": "hoahop Doan",
      "userId": "00193743421720716536"
     },
     "user_tz": -420
    },
    "id": "PUOUf7igYDA0",
    "outputId": "c289c541-7fe3-421d-ecdb-a9fdc160fe82"
   },
   "outputs": [
    {
     "name": "stdout",
     "output_type": "stream",
     "text": [
      "Requirement already satisfied: scipy in c:\\users\\doanh\\anaconda3\\envs\\myenv\\lib\\site-packages (1.13.1)\n",
      "Requirement already satisfied: numpy<2.3,>=1.22.4 in c:\\users\\doanh\\anaconda3\\envs\\myenv\\lib\\site-packages (from scipy) (1.26.4)\n"
     ]
    }
   ],
   "source": [
    "! pip install scipy"
   ]
  },
  {
   "cell_type": "code",
   "execution_count": 3,
   "metadata": {
    "executionInfo": {
     "elapsed": 3854,
     "status": "ok",
     "timestamp": 1734838867799,
     "user": {
      "displayName": "hoahop Doan",
      "userId": "00193743421720716536"
     },
     "user_tz": -420
    },
    "id": "B_oUqlkuqEpp"
   },
   "outputs": [],
   "source": [
    "from sklearn.preprocessing import OneHotEncoder, StandardScaler\n",
    "from sklearn.compose import ColumnTransformer\n",
    "from sklearn.base import BaseEstimator, TransformerMixin\n",
    "from sklearn.model_selection import train_test_split\n",
    "from sklearn.linear_model import LinearRegression\n",
    "import pandas as pd\n",
    "import numpy as np\n",
    "import matplotlib.pyplot as plt\n",
    "import scipy.stats as stats"
   ]
  },
  {
   "cell_type": "markdown",
   "metadata": {
    "id": "A5v7j7zUqEpq"
   },
   "source": [
    "### Đọc dữ liệu từ file"
   ]
  },
  {
   "cell_type": "code",
   "execution_count": 4,
   "metadata": {
    "colab": {
     "base_uri": "https://localhost:8080/",
     "height": 363
    },
    "executionInfo": {
     "elapsed": 1678,
     "status": "ok",
     "timestamp": 1734838873766,
     "user": {
      "displayName": "hoahop Doan",
      "userId": "00193743421720716536"
     },
     "user_tz": -420
    },
    "id": "dfG39yFv6WUB",
    "outputId": "acab7dc8-d375-4f79-d31f-54f2f31d3176"
   },
   "outputs": [
    {
     "data": {
      "application/vnd.microsoft.datawrangler.viewer.v0+json": {
       "columns": [
        {
         "name": "index",
         "rawType": "int64",
         "type": "integer"
        },
        {
         "name": "Date",
         "rawType": "object",
         "type": "string"
        },
        {
         "name": "Time",
         "rawType": "object",
         "type": "string"
        },
        {
         "name": "Weather",
         "rawType": "object",
         "type": "string"
        },
        {
         "name": "Temp",
         "rawType": "object",
         "type": "string"
        },
        {
         "name": "Feels",
         "rawType": "object",
         "type": "string"
        },
        {
         "name": "Wind",
         "rawType": "object",
         "type": "string"
        },
        {
         "name": "Gust",
         "rawType": "object",
         "type": "string"
        },
        {
         "name": "Rain",
         "rawType": "object",
         "type": "string"
        },
        {
         "name": "Humidity",
         "rawType": "object",
         "type": "string"
        },
        {
         "name": "Cloud",
         "rawType": "object",
         "type": "string"
        },
        {
         "name": "Pressure",
         "rawType": "object",
         "type": "string"
        },
        {
         "name": "Vis",
         "rawType": "object",
         "type": "string"
        }
       ],
       "ref": "13358d8a-c5b8-42e9-b63a-9fe81022f356",
       "rows": [
        [
         "0",
         "Thu 01, Jan 2009",
         "00:00",
         "Fog",
         "23 °c",
         "25 °c",
         "9 km/h from NNW",
         "15 km/h",
         "0.0 mm",
         "97%",
         "100%",
         "1010 mb",
         "Poor"
        ],
        [
         "1",
         "Thu 01, Jan 2009",
         "03:00",
         "Light drizzle",
         "22 °c",
         "25 °c",
         "9 km/h from NNW",
         "13 km/h",
         "0.4 mm",
         "97%",
         "84%",
         "1010 mb",
         "Poor"
        ],
        [
         "2",
         "Thu 01, Jan 2009",
         "06:00",
         "Fog",
         "22 °c",
         "25 °c",
         "6 km/h from N",
         "8 km/h",
         "0.0 mm",
         "98%",
         "100%",
         "1011 mb",
         "Poor"
        ],
        [
         "3",
         "Thu 01, Jan 2009",
         "09:00",
         "Cloudy",
         "27 °c",
         "31 °c",
         "6 km/h from NNE",
         "7 km/h",
         "0.1 mm",
         "83%",
         "64%",
         "1011 mb",
         "Excellent"
        ],
        [
         "4",
         "Thu 01, Jan 2009",
         "12:00",
         "Partly cloudy",
         "28 °c",
         "34 °c",
         "3 km/h from NE",
         "3 km/h",
         "0.0 mm",
         "76%",
         "62%",
         "1010 mb",
         "Excellent"
        ],
        [
         "5",
         "Thu 01, Jan 2009",
         "15:00",
         "Moderate or heavy rain shower",
         "27 °c",
         "32 °c",
         "2 km/h from NNE",
         "4 km/h",
         "3.1 mm",
         "83%",
         "74%",
         "1009 mb",
         "Good"
        ],
        [
         "6",
         "Thu 01, Jan 2009",
         "18:00",
         "Cloudy",
         "24 °c",
         "27 °c",
         "7 km/h from NW",
         "14 km/h",
         "0.0 mm",
         "91%",
         "73%",
         "1010 mb",
         "Excellent"
        ],
        [
         "7",
         "Thu 01, Jan 2009",
         "21:00",
         "Patchy rain possible",
         "23 °c",
         "26 °c",
         "10 km/h from NNE",
         "18 km/h",
         "1.6 mm",
         "91%",
         "32%",
         "1012 mb",
         "Excellent"
        ],
        [
         "8",
         "Fri 02, Jan 2009",
         "00:00",
         "Partly cloudy",
         "22 °c",
         "22 °c",
         "8 km/h from N",
         "14 km/h",
         "0.0 mm",
         "91%",
         "30%",
         "1011 mb",
         "Excellent"
        ],
        [
         "9",
         "Fri 02, Jan 2009",
         "03:00",
         "Cloudy",
         "21 °c",
         "22 °c",
         "9 km/h from N",
         "16 km/h",
         "0.0 mm",
         "91%",
         "72%",
         "1010 mb",
         "Excellent"
        ]
       ],
       "shape": {
        "columns": 12,
        "rows": 10
       }
      },
      "text/html": [
       "<div>\n",
       "<style scoped>\n",
       "    .dataframe tbody tr th:only-of-type {\n",
       "        vertical-align: middle;\n",
       "    }\n",
       "\n",
       "    .dataframe tbody tr th {\n",
       "        vertical-align: top;\n",
       "    }\n",
       "\n",
       "    .dataframe thead th {\n",
       "        text-align: right;\n",
       "    }\n",
       "</style>\n",
       "<table border=\"1\" class=\"dataframe\">\n",
       "  <thead>\n",
       "    <tr style=\"text-align: right;\">\n",
       "      <th></th>\n",
       "      <th>Date</th>\n",
       "      <th>Time</th>\n",
       "      <th>Weather</th>\n",
       "      <th>Temp</th>\n",
       "      <th>Feels</th>\n",
       "      <th>Wind</th>\n",
       "      <th>Gust</th>\n",
       "      <th>Rain</th>\n",
       "      <th>Humidity</th>\n",
       "      <th>Cloud</th>\n",
       "      <th>Pressure</th>\n",
       "      <th>Vis</th>\n",
       "    </tr>\n",
       "  </thead>\n",
       "  <tbody>\n",
       "    <tr>\n",
       "      <th>0</th>\n",
       "      <td>Thu 01, Jan 2009</td>\n",
       "      <td>00:00</td>\n",
       "      <td>Fog</td>\n",
       "      <td>23 °c</td>\n",
       "      <td>25 °c</td>\n",
       "      <td>9 km/h from NNW</td>\n",
       "      <td>15 km/h</td>\n",
       "      <td>0.0 mm</td>\n",
       "      <td>97%</td>\n",
       "      <td>100%</td>\n",
       "      <td>1010 mb</td>\n",
       "      <td>Poor</td>\n",
       "    </tr>\n",
       "    <tr>\n",
       "      <th>1</th>\n",
       "      <td>Thu 01, Jan 2009</td>\n",
       "      <td>03:00</td>\n",
       "      <td>Light drizzle</td>\n",
       "      <td>22 °c</td>\n",
       "      <td>25 °c</td>\n",
       "      <td>9 km/h from NNW</td>\n",
       "      <td>13 km/h</td>\n",
       "      <td>0.4 mm</td>\n",
       "      <td>97%</td>\n",
       "      <td>84%</td>\n",
       "      <td>1010 mb</td>\n",
       "      <td>Poor</td>\n",
       "    </tr>\n",
       "    <tr>\n",
       "      <th>2</th>\n",
       "      <td>Thu 01, Jan 2009</td>\n",
       "      <td>06:00</td>\n",
       "      <td>Fog</td>\n",
       "      <td>22 °c</td>\n",
       "      <td>25 °c</td>\n",
       "      <td>6 km/h from N</td>\n",
       "      <td>8 km/h</td>\n",
       "      <td>0.0 mm</td>\n",
       "      <td>98%</td>\n",
       "      <td>100%</td>\n",
       "      <td>1011 mb</td>\n",
       "      <td>Poor</td>\n",
       "    </tr>\n",
       "    <tr>\n",
       "      <th>3</th>\n",
       "      <td>Thu 01, Jan 2009</td>\n",
       "      <td>09:00</td>\n",
       "      <td>Cloudy</td>\n",
       "      <td>27 °c</td>\n",
       "      <td>31 °c</td>\n",
       "      <td>6 km/h from NNE</td>\n",
       "      <td>7 km/h</td>\n",
       "      <td>0.1 mm</td>\n",
       "      <td>83%</td>\n",
       "      <td>64%</td>\n",
       "      <td>1011 mb</td>\n",
       "      <td>Excellent</td>\n",
       "    </tr>\n",
       "    <tr>\n",
       "      <th>4</th>\n",
       "      <td>Thu 01, Jan 2009</td>\n",
       "      <td>12:00</td>\n",
       "      <td>Partly cloudy</td>\n",
       "      <td>28 °c</td>\n",
       "      <td>34 °c</td>\n",
       "      <td>3 km/h from NE</td>\n",
       "      <td>3 km/h</td>\n",
       "      <td>0.0 mm</td>\n",
       "      <td>76%</td>\n",
       "      <td>62%</td>\n",
       "      <td>1010 mb</td>\n",
       "      <td>Excellent</td>\n",
       "    </tr>\n",
       "    <tr>\n",
       "      <th>5</th>\n",
       "      <td>Thu 01, Jan 2009</td>\n",
       "      <td>15:00</td>\n",
       "      <td>Moderate or heavy rain shower</td>\n",
       "      <td>27 °c</td>\n",
       "      <td>32 °c</td>\n",
       "      <td>2 km/h from NNE</td>\n",
       "      <td>4 km/h</td>\n",
       "      <td>3.1 mm</td>\n",
       "      <td>83%</td>\n",
       "      <td>74%</td>\n",
       "      <td>1009 mb</td>\n",
       "      <td>Good</td>\n",
       "    </tr>\n",
       "    <tr>\n",
       "      <th>6</th>\n",
       "      <td>Thu 01, Jan 2009</td>\n",
       "      <td>18:00</td>\n",
       "      <td>Cloudy</td>\n",
       "      <td>24 °c</td>\n",
       "      <td>27 °c</td>\n",
       "      <td>7 km/h from NW</td>\n",
       "      <td>14 km/h</td>\n",
       "      <td>0.0 mm</td>\n",
       "      <td>91%</td>\n",
       "      <td>73%</td>\n",
       "      <td>1010 mb</td>\n",
       "      <td>Excellent</td>\n",
       "    </tr>\n",
       "    <tr>\n",
       "      <th>7</th>\n",
       "      <td>Thu 01, Jan 2009</td>\n",
       "      <td>21:00</td>\n",
       "      <td>Patchy rain possible</td>\n",
       "      <td>23 °c</td>\n",
       "      <td>26 °c</td>\n",
       "      <td>10 km/h from NNE</td>\n",
       "      <td>18 km/h</td>\n",
       "      <td>1.6 mm</td>\n",
       "      <td>91%</td>\n",
       "      <td>32%</td>\n",
       "      <td>1012 mb</td>\n",
       "      <td>Excellent</td>\n",
       "    </tr>\n",
       "    <tr>\n",
       "      <th>8</th>\n",
       "      <td>Fri 02, Jan 2009</td>\n",
       "      <td>00:00</td>\n",
       "      <td>Partly cloudy</td>\n",
       "      <td>22 °c</td>\n",
       "      <td>22 °c</td>\n",
       "      <td>8 km/h from N</td>\n",
       "      <td>14 km/h</td>\n",
       "      <td>0.0 mm</td>\n",
       "      <td>91%</td>\n",
       "      <td>30%</td>\n",
       "      <td>1011 mb</td>\n",
       "      <td>Excellent</td>\n",
       "    </tr>\n",
       "    <tr>\n",
       "      <th>9</th>\n",
       "      <td>Fri 02, Jan 2009</td>\n",
       "      <td>03:00</td>\n",
       "      <td>Cloudy</td>\n",
       "      <td>21 °c</td>\n",
       "      <td>22 °c</td>\n",
       "      <td>9 km/h from N</td>\n",
       "      <td>16 km/h</td>\n",
       "      <td>0.0 mm</td>\n",
       "      <td>91%</td>\n",
       "      <td>72%</td>\n",
       "      <td>1010 mb</td>\n",
       "      <td>Excellent</td>\n",
       "    </tr>\n",
       "  </tbody>\n",
       "</table>\n",
       "</div>"
      ],
      "text/plain": [
       "               Date   Time                        Weather   Temp  Feels  \\\n",
       "0  Thu 01, Jan 2009  00:00                            Fog  23 °c  25 °c   \n",
       "1  Thu 01, Jan 2009  03:00                  Light drizzle  22 °c  25 °c   \n",
       "2  Thu 01, Jan 2009  06:00                            Fog  22 °c  25 °c   \n",
       "3  Thu 01, Jan 2009  09:00                         Cloudy  27 °c  31 °c   \n",
       "4  Thu 01, Jan 2009  12:00                  Partly cloudy  28 °c  34 °c   \n",
       "5  Thu 01, Jan 2009  15:00  Moderate or heavy rain shower  27 °c  32 °c   \n",
       "6  Thu 01, Jan 2009  18:00                         Cloudy  24 °c  27 °c   \n",
       "7  Thu 01, Jan 2009  21:00           Patchy rain possible  23 °c  26 °c   \n",
       "8  Fri 02, Jan 2009  00:00                  Partly cloudy  22 °c  22 °c   \n",
       "9  Fri 02, Jan 2009  03:00                         Cloudy  21 °c  22 °c   \n",
       "\n",
       "               Wind     Gust    Rain Humidity Cloud Pressure        Vis  \n",
       "0   9 km/h from NNW  15 km/h  0.0 mm      97%  100%  1010 mb       Poor  \n",
       "1   9 km/h from NNW  13 km/h  0.4 mm      97%   84%  1010 mb       Poor  \n",
       "2     6 km/h from N   8 km/h  0.0 mm      98%  100%  1011 mb       Poor  \n",
       "3   6 km/h from NNE   7 km/h  0.1 mm      83%   64%  1011 mb  Excellent  \n",
       "4    3 km/h from NE   3 km/h  0.0 mm      76%   62%  1010 mb  Excellent  \n",
       "5   2 km/h from NNE   4 km/h  3.1 mm      83%   74%  1009 mb       Good  \n",
       "6    7 km/h from NW  14 km/h  0.0 mm      91%   73%  1010 mb  Excellent  \n",
       "7  10 km/h from NNE  18 km/h  1.6 mm      91%   32%  1012 mb  Excellent  \n",
       "8     8 km/h from N  14 km/h  0.0 mm      91%   30%  1011 mb  Excellent  \n",
       "9     9 km/h from N  16 km/h  0.0 mm      91%   72%  1010 mb  Excellent  "
      ]
     },
     "execution_count": 4,
     "metadata": {},
     "output_type": "execute_result"
    }
   ],
   "source": [
    "data = pd.read_csv('./weatherHCM.csv', sep='\\t')\n",
    "data.head(10)"
   ]
  },
  {
   "cell_type": "code",
   "execution_count": 5,
   "metadata": {
    "colab": {
     "base_uri": "https://localhost:8080/"
    },
    "executionInfo": {
     "elapsed": 305,
     "status": "ok",
     "timestamp": 1734838877516,
     "user": {
      "displayName": "hoahop Doan",
      "userId": "00193743421720716536"
     },
     "user_tz": -420
    },
    "id": "MWeN3ctKqEps",
    "outputId": "f68fea7a-7a10-4912-8186-5d19b1e7c820"
   },
   "outputs": [
    {
     "data": {
      "text/plain": [
       "(34976, 12)"
      ]
     },
     "execution_count": 5,
     "metadata": {},
     "output_type": "execute_result"
    }
   ],
   "source": [
    "data.shape"
   ]
  },
  {
   "cell_type": "markdown",
   "metadata": {
    "id": "CumOmBiiqEps"
   },
   "source": [
    "Dữ liệu gồm **34976** dòng và **12** cột. Mỗi dòng bao gồm các thông tin về thời tiết trong 3h:\n",
    "- Date: ngày\n",
    "- Time:    thời gian trong ngày\n",
    "- Weather: tình trạng thời tiết\n",
    "- Temp: nhiệt độ\n",
    "- Feels: nhiệt độ thực sự cảm nhận được\n",
    "- Wind: tốc độ gió\n",
    "- Gust: tốc độ gió giật\n",
    "- Rain: lượng mưa\n",
    "- Humidity: độ ẩm\n",
    "- Cloud: mật độ mây\n",
    "- Pressure: áp suất không khí\n",
    "- Vis: tầm nhìn"
   ]
  },
  {
   "cell_type": "markdown",
   "metadata": {
    "id": "73txwo0wqEpt"
   },
   "source": [
    "### Kiểm tra giá trị thiếu\n",
    "\n",
    "---\n",
    "\n"
   ]
  },
  {
   "cell_type": "code",
   "execution_count": 6,
   "metadata": {
    "colab": {
     "base_uri": "https://localhost:8080/"
    },
    "executionInfo": {
     "elapsed": 409,
     "status": "ok",
     "timestamp": 1734838880181,
     "user": {
      "displayName": "hoahop Doan",
      "userId": "00193743421720716536"
     },
     "user_tz": -420
    },
    "id": "bI9O_0qfqEpt",
    "outputId": "076d45f3-0d27-4160-e787-e910e98def22"
   },
   "outputs": [
    {
     "name": "stdout",
     "output_type": "stream",
     "text": [
      "<class 'pandas.core.frame.DataFrame'>\n",
      "RangeIndex: 34976 entries, 0 to 34975\n",
      "Data columns (total 12 columns):\n",
      " #   Column    Non-Null Count  Dtype \n",
      "---  ------    --------------  ----- \n",
      " 0   Date      34976 non-null  object\n",
      " 1   Time      34976 non-null  object\n",
      " 2   Weather   34976 non-null  object\n",
      " 3   Temp      34976 non-null  object\n",
      " 4   Feels     34976 non-null  object\n",
      " 5   Wind      34976 non-null  object\n",
      " 6   Gust      34976 non-null  object\n",
      " 7   Rain      34976 non-null  object\n",
      " 8   Humidity  34976 non-null  object\n",
      " 9   Cloud     34976 non-null  object\n",
      " 10  Pressure  34976 non-null  object\n",
      " 11  Vis       34976 non-null  object\n",
      "dtypes: object(12)\n",
      "memory usage: 3.2+ MB\n"
     ]
    }
   ],
   "source": [
    "data.info()"
   ]
  },
  {
   "cell_type": "markdown",
   "metadata": {
    "id": "OZiERVkbqEpu"
   },
   "source": [
    "-> Dữ liệu không có giá trị thiếu\n",
    "\n",
    "1.   List item\n",
    "2.   List item\n",
    "\n"
   ]
  },
  {
   "cell_type": "markdown",
   "metadata": {
    "id": "8ZJEmqNUqEpu"
   },
   "source": [
    "Tất cả thuộc tính đều có kiểu dữ liệu object"
   ]
  },
  {
   "cell_type": "markdown",
   "metadata": {
    "id": "lR5xVT8qqEpu"
   },
   "source": [
    "**Các cột Temp, Feels, Gust, Rain, Humidity, Cloud, Pressure nên được đưa về dạng số**"
   ]
  },
  {
   "cell_type": "code",
   "execution_count": 7,
   "metadata": {
    "executionInfo": {
     "elapsed": 741,
     "status": "ok",
     "timestamp": 1734838884921,
     "user": {
      "displayName": "hoahop Doan",
      "userId": "00193743421720716536"
     },
     "user_tz": -420
    },
    "id": "aWPciSXeqEpu"
   },
   "outputs": [],
   "source": [
    "attrs1 = ['Temp', 'Feels', 'Gust', 'Rain', 'Pressure']\n",
    "for attr in attrs1:\n",
    "    data[attr] = data[attr].str.split(' ', expand=True)[0].astype('float')\n",
    "\n",
    "attrs2 = ['Humidity', 'Cloud']\n",
    "for attr in attrs2:\n",
    "    data[attr] = data[attr].str.split('%', expand=True)[0].astype('float') / 100"
   ]
  },
  {
   "cell_type": "markdown",
   "metadata": {
    "id": "x03eI8fgqEpv"
   },
   "source": [
    "Ta thấy cột Wind cho tới 2 thông tin là tốc độ và hướng gió, nên tách thành 2 cột riêng biệt là **Wind Speed** và **Wind Direction**"
   ]
  },
  {
   "cell_type": "code",
   "execution_count": 8,
   "metadata": {
    "executionInfo": {
     "elapsed": 320,
     "status": "ok",
     "timestamp": 1734838887235,
     "user": {
      "displayName": "hoahop Doan",
      "userId": "00193743421720716536"
     },
     "user_tz": -420
    },
    "id": "c7kq-TibqEpv"
   },
   "outputs": [],
   "source": [
    "new_data_Wind = data['Wind'].str.split(' from ', expand=True)\n",
    "data['Wind Speed'] = new_data_Wind[0]\n",
    "data['Wind Direction'] = new_data_Wind[1]\n",
    "data.drop(columns=['Wind'], inplace=True)"
   ]
  },
  {
   "cell_type": "markdown",
   "metadata": {
    "id": "bhe4w7bzqEpv"
   },
   "source": [
    "Đưa cột **Wind Speed** về dạng số"
   ]
  },
  {
   "cell_type": "code",
   "execution_count": 9,
   "metadata": {
    "executionInfo": {
     "elapsed": 2,
     "status": "ok",
     "timestamp": 1734838888495,
     "user": {
      "displayName": "hoahop Doan",
      "userId": "00193743421720716536"
     },
     "user_tz": -420
    },
    "id": "kzACaUscYDA6"
   },
   "outputs": [],
   "source": [
    "data['Wind Speed'] = data['Wind Speed'].astype(str).str.split(' ', expand=True)[0].astype('float')\n"
   ]
  },
  {
   "cell_type": "code",
   "execution_count": 10,
   "metadata": {
    "colab": {
     "base_uri": "https://localhost:8080/",
     "height": 491
    },
    "executionInfo": {
     "elapsed": 315,
     "status": "ok",
     "timestamp": 1734838890840,
     "user": {
      "displayName": "hoahop Doan",
      "userId": "00193743421720716536"
     },
     "user_tz": -420
    },
    "id": "DrsLXZjZ-rqA",
    "outputId": "c5c3c6f3-e30d-4ab0-fff3-f1fe098d5caa"
   },
   "outputs": [
    {
     "data": {
      "application/vnd.microsoft.datawrangler.viewer.v0+json": {
       "columns": [
        {
         "name": "index",
         "rawType": "object",
         "type": "string"
        },
        {
         "name": "0",
         "rawType": "object",
         "type": "unknown"
        }
       ],
       "ref": "ccb62366-8a05-41f9-afed-ccb698059f6e",
       "rows": [
        [
         "Date",
         "object"
        ],
        [
         "Time",
         "object"
        ],
        [
         "Weather",
         "object"
        ],
        [
         "Temp",
         "float64"
        ],
        [
         "Feels",
         "float64"
        ],
        [
         "Gust",
         "float64"
        ],
        [
         "Rain",
         "float64"
        ],
        [
         "Humidity",
         "float64"
        ],
        [
         "Cloud",
         "float64"
        ],
        [
         "Pressure",
         "float64"
        ],
        [
         "Vis",
         "object"
        ],
        [
         "Wind Speed",
         "float64"
        ],
        [
         "Wind Direction",
         "object"
        ]
       ],
       "shape": {
        "columns": 1,
        "rows": 13
       }
      },
      "text/plain": [
       "Date               object\n",
       "Time               object\n",
       "Weather            object\n",
       "Temp              float64\n",
       "Feels             float64\n",
       "Gust              float64\n",
       "Rain              float64\n",
       "Humidity          float64\n",
       "Cloud             float64\n",
       "Pressure          float64\n",
       "Vis                object\n",
       "Wind Speed        float64\n",
       "Wind Direction     object\n",
       "dtype: object"
      ]
     },
     "execution_count": 10,
     "metadata": {},
     "output_type": "execute_result"
    }
   ],
   "source": [
    "data.dtypes"
   ]
  },
  {
   "cell_type": "markdown",
   "metadata": {
    "id": "sPXgb6juqEpw"
   },
   "source": [
    "### Phân bố của dữ liệu dạng số"
   ]
  },
  {
   "cell_type": "code",
   "execution_count": 11,
   "metadata": {
    "colab": {
     "base_uri": "https://localhost:8080/",
     "height": 300
    },
    "executionInfo": {
     "elapsed": 426,
     "status": "ok",
     "timestamp": 1734838893285,
     "user": {
      "displayName": "hoahop Doan",
      "userId": "00193743421720716536"
     },
     "user_tz": -420
    },
    "id": "9IDUi_8eqEpw",
    "outputId": "2b07f0bd-aef0-4cf3-8a6f-4cbcafef5d4d"
   },
   "outputs": [
    {
     "data": {
      "application/vnd.microsoft.datawrangler.viewer.v0+json": {
       "columns": [
        {
         "name": "index",
         "rawType": "object",
         "type": "string"
        },
        {
         "name": "Temp",
         "rawType": "float64",
         "type": "float"
        },
        {
         "name": "Feels",
         "rawType": "float64",
         "type": "float"
        },
        {
         "name": "Gust",
         "rawType": "float64",
         "type": "float"
        },
        {
         "name": "Rain",
         "rawType": "float64",
         "type": "float"
        },
        {
         "name": "Humidity",
         "rawType": "float64",
         "type": "float"
        },
        {
         "name": "Cloud",
         "rawType": "float64",
         "type": "float"
        },
        {
         "name": "Pressure",
         "rawType": "float64",
         "type": "float"
        },
        {
         "name": "Wind Speed",
         "rawType": "float64",
         "type": "float"
        }
       ],
       "ref": "62f9b606-0fbd-4246-8292-204b982cd8e3",
       "rows": [
        [
         "count",
         "34976.0",
         "34976.0",
         "34976.0",
         "34976.0",
         "34976.0",
         "34976.0",
         "34976.0",
         "34976.0"
        ],
        [
         "mean",
         "27.845436870997254",
         "32.188758005489476",
         "13.076538197621225",
         "0.44176292314730103",
         "0.7395985818847208",
         "0.37935498627630376",
         "1009.3379174290942",
         "9.156593092406222"
        ],
        [
         "std",
         "3.4138783803950874",
         "4.438784872096279",
         "6.687806123329552",
         "1.458788621760566",
         "0.15677215512649803",
         "0.24366098904772157",
         "2.388063920763168",
         "4.507743602299406"
        ],
        [
         "min",
         "16.0",
         "16.0",
         "0.0",
         "0.0",
         "0.21",
         "0.0",
         "1000.0",
         "0.0"
        ],
        [
         "25%",
         "25.0",
         "29.0",
         "8.0",
         "0.0",
         "0.64",
         "0.19",
         "1008.0",
         "6.0"
        ],
        [
         "50%",
         "27.0",
         "31.0",
         "12.0",
         "0.0",
         "0.77",
         "0.33",
         "1009.0",
         "9.0"
        ],
        [
         "75%",
         "30.0",
         "36.0",
         "17.0",
         "0.0",
         "0.87",
         "0.53",
         "1011.0",
         "12.0"
        ],
        [
         "max",
         "39.0",
         "51.0",
         "55.0",
         "50.8",
         "0.99",
         "1.0",
         "1019.0",
         "33.0"
        ]
       ],
       "shape": {
        "columns": 8,
        "rows": 8
       }
      },
      "text/html": [
       "<div>\n",
       "<style scoped>\n",
       "    .dataframe tbody tr th:only-of-type {\n",
       "        vertical-align: middle;\n",
       "    }\n",
       "\n",
       "    .dataframe tbody tr th {\n",
       "        vertical-align: top;\n",
       "    }\n",
       "\n",
       "    .dataframe thead th {\n",
       "        text-align: right;\n",
       "    }\n",
       "</style>\n",
       "<table border=\"1\" class=\"dataframe\">\n",
       "  <thead>\n",
       "    <tr style=\"text-align: right;\">\n",
       "      <th></th>\n",
       "      <th>Temp</th>\n",
       "      <th>Feels</th>\n",
       "      <th>Gust</th>\n",
       "      <th>Rain</th>\n",
       "      <th>Humidity</th>\n",
       "      <th>Cloud</th>\n",
       "      <th>Pressure</th>\n",
       "      <th>Wind Speed</th>\n",
       "    </tr>\n",
       "  </thead>\n",
       "  <tbody>\n",
       "    <tr>\n",
       "      <th>count</th>\n",
       "      <td>34976.000000</td>\n",
       "      <td>34976.000000</td>\n",
       "      <td>34976.000000</td>\n",
       "      <td>34976.000000</td>\n",
       "      <td>34976.000000</td>\n",
       "      <td>34976.000000</td>\n",
       "      <td>34976.000000</td>\n",
       "      <td>34976.000000</td>\n",
       "    </tr>\n",
       "    <tr>\n",
       "      <th>mean</th>\n",
       "      <td>27.845437</td>\n",
       "      <td>32.188758</td>\n",
       "      <td>13.076538</td>\n",
       "      <td>0.441763</td>\n",
       "      <td>0.739599</td>\n",
       "      <td>0.379355</td>\n",
       "      <td>1009.337917</td>\n",
       "      <td>9.156593</td>\n",
       "    </tr>\n",
       "    <tr>\n",
       "      <th>std</th>\n",
       "      <td>3.413878</td>\n",
       "      <td>4.438785</td>\n",
       "      <td>6.687806</td>\n",
       "      <td>1.458789</td>\n",
       "      <td>0.156772</td>\n",
       "      <td>0.243661</td>\n",
       "      <td>2.388064</td>\n",
       "      <td>4.507744</td>\n",
       "    </tr>\n",
       "    <tr>\n",
       "      <th>min</th>\n",
       "      <td>16.000000</td>\n",
       "      <td>16.000000</td>\n",
       "      <td>0.000000</td>\n",
       "      <td>0.000000</td>\n",
       "      <td>0.210000</td>\n",
       "      <td>0.000000</td>\n",
       "      <td>1000.000000</td>\n",
       "      <td>0.000000</td>\n",
       "    </tr>\n",
       "    <tr>\n",
       "      <th>25%</th>\n",
       "      <td>25.000000</td>\n",
       "      <td>29.000000</td>\n",
       "      <td>8.000000</td>\n",
       "      <td>0.000000</td>\n",
       "      <td>0.640000</td>\n",
       "      <td>0.190000</td>\n",
       "      <td>1008.000000</td>\n",
       "      <td>6.000000</td>\n",
       "    </tr>\n",
       "    <tr>\n",
       "      <th>50%</th>\n",
       "      <td>27.000000</td>\n",
       "      <td>31.000000</td>\n",
       "      <td>12.000000</td>\n",
       "      <td>0.000000</td>\n",
       "      <td>0.770000</td>\n",
       "      <td>0.330000</td>\n",
       "      <td>1009.000000</td>\n",
       "      <td>9.000000</td>\n",
       "    </tr>\n",
       "    <tr>\n",
       "      <th>75%</th>\n",
       "      <td>30.000000</td>\n",
       "      <td>36.000000</td>\n",
       "      <td>17.000000</td>\n",
       "      <td>0.000000</td>\n",
       "      <td>0.870000</td>\n",
       "      <td>0.530000</td>\n",
       "      <td>1011.000000</td>\n",
       "      <td>12.000000</td>\n",
       "    </tr>\n",
       "    <tr>\n",
       "      <th>max</th>\n",
       "      <td>39.000000</td>\n",
       "      <td>51.000000</td>\n",
       "      <td>55.000000</td>\n",
       "      <td>50.800000</td>\n",
       "      <td>0.990000</td>\n",
       "      <td>1.000000</td>\n",
       "      <td>1019.000000</td>\n",
       "      <td>33.000000</td>\n",
       "    </tr>\n",
       "  </tbody>\n",
       "</table>\n",
       "</div>"
      ],
      "text/plain": [
       "               Temp         Feels          Gust          Rain      Humidity  \\\n",
       "count  34976.000000  34976.000000  34976.000000  34976.000000  34976.000000   \n",
       "mean      27.845437     32.188758     13.076538      0.441763      0.739599   \n",
       "std        3.413878      4.438785      6.687806      1.458789      0.156772   \n",
       "min       16.000000     16.000000      0.000000      0.000000      0.210000   \n",
       "25%       25.000000     29.000000      8.000000      0.000000      0.640000   \n",
       "50%       27.000000     31.000000     12.000000      0.000000      0.770000   \n",
       "75%       30.000000     36.000000     17.000000      0.000000      0.870000   \n",
       "max       39.000000     51.000000     55.000000     50.800000      0.990000   \n",
       "\n",
       "              Cloud      Pressure    Wind Speed  \n",
       "count  34976.000000  34976.000000  34976.000000  \n",
       "mean       0.379355   1009.337917      9.156593  \n",
       "std        0.243661      2.388064      4.507744  \n",
       "min        0.000000   1000.000000      0.000000  \n",
       "25%        0.190000   1008.000000      6.000000  \n",
       "50%        0.330000   1009.000000      9.000000  \n",
       "75%        0.530000   1011.000000     12.000000  \n",
       "max        1.000000   1019.000000     33.000000  "
      ]
     },
     "execution_count": 11,
     "metadata": {},
     "output_type": "execute_result"
    }
   ],
   "source": [
    "data_float = data[['Temp', 'Feels', 'Gust', 'Rain', 'Humidity', 'Cloud', 'Pressure', 'Wind Speed']]\n",
    "data_float.describe()"
   ]
  },
  {
   "cell_type": "code",
   "execution_count": 12,
   "metadata": {
    "colab": {
     "base_uri": "https://localhost:8080/",
     "height": 700
    },
    "executionInfo": {
     "elapsed": 1861,
     "status": "ok",
     "timestamp": 1734838896580,
     "user": {
      "displayName": "hoahop Doan",
      "userId": "00193743421720716536"
     },
     "user_tz": -420
    },
    "id": "ZiJi0Eq5qEpw",
    "outputId": "aba6b532-dc34-469b-c536-5b3bcb038857"
   },
   "outputs": [
    {
     "data": {
      "image/png": "[encoded data removed]",
      "text/plain": [
       "<Figure size 1500x800 with 8 Axes>"
      ]
     },
     "metadata": {},
     "output_type": "display_data"
    }
   ],
   "source": [
    "fig, axs = plt.subplots(2, 4, figsize=(15, 8))\n",
    "\n",
    "axs[0, 0].boxplot(data['Temp'])\n",
    "axs[0, 0].set_xlabel('Temp')\n",
    "\n",
    "axs[0, 1].boxplot(data['Feels'])\n",
    "axs[0, 1].set_xlabel('Feels')\n",
    "\n",
    "axs[0, 2].boxplot(data['Gust'])\n",
    "axs[0, 2].set_xlabel('Gust')\n",
    "\n",
    "axs[0, 3].boxplot(data['Rain'])\n",
    "axs[0, 3].set_xlabel('Rain')\n",
    "\n",
    "axs[1, 0].boxplot(data['Humidity'])\n",
    "axs[1, 0].set_xlabel('Humidity')\n",
    "\n",
    "axs[1, 1].boxplot(data['Cloud'])\n",
    "axs[1, 1].set_xlabel('Cloud')\n",
    "\n",
    "axs[1, 2].boxplot(data['Pressure'])\n",
    "axs[1, 2].set_xlabel('Pressure')\n",
    "\n",
    "axs[1, 3].boxplot(data['Wind Speed'])\n",
    "axs[1, 3].set_xlabel('Wind Speed')\n",
    "\n",
    "plt.show()"
   ]
  },
  {
   "cell_type": "markdown",
   "metadata": {
    "id": "dvLX9pQNqEpw"
   },
   "source": [
    "**Tìm giá trị không hợp lệ**"
   ]
  },
  {
   "cell_type": "markdown",
   "metadata": {
    "id": "WGJ4MWEPqEpw"
   },
   "source": [
    ":Wind Speed sẽ luôn nhỏ hơn Gust trong cùng khoảng thời gian"
   ]
  },
  {
   "cell_type": "code",
   "execution_count": 13,
   "metadata": {
    "colab": {
     "base_uri": "https://localhost:8080/"
    },
    "executionInfo": {
     "elapsed": 358,
     "status": "ok",
     "timestamp": 1734838898428,
     "user": {
      "displayName": "hoahop Doan",
      "userId": "00193743421720716536"
     },
     "user_tz": -420
    },
    "id": "72e7u9ryqEpx",
    "outputId": "df2025ad-8d2a-45e9-e9db-9a9aa688956f"
   },
   "outputs": [
    {
     "data": {
      "text/plain": [
       "0"
      ]
     },
     "execution_count": 13,
     "metadata": {},
     "output_type": "execute_result"
    }
   ],
   "source": [
    "num_invalid_rows = (data['Gust'] < data['Wind Speed']).sum()\n",
    "num_invalid_rows"
   ]
  },
  {
   "cell_type": "markdown",
   "metadata": {
    "id": "ZKld5J-vqEpx"
   },
   "source": [
    "-> Không có giá trị không hợp lệ"
   ]
  },
  {
   "cell_type": "markdown",
   "metadata": {
    "id": "OnuuFFjMqEpx"
   },
   "source": [
    "### Phân bố của dữ liệu không dạng số\n",
    "\n",
    "\n",
    "\n"
   ]
  },
  {
   "cell_type": "markdown",
   "metadata": {
    "id": "-G6sx_AsF_cS"
   },
   "source": [
    "Phân bố biến của weather\n"
   ]
  },
  {
   "cell_type": "code",
   "execution_count": 14,
   "metadata": {
    "colab": {
     "base_uri": "https://localhost:8080/",
     "height": 545
    },
    "executionInfo": {
     "elapsed": 727,
     "status": "ok",
     "timestamp": 1734838903841,
     "user": {
      "displayName": "hoahop Doan",
      "userId": "00193743421720716536"
     },
     "user_tz": -420
    },
    "id": "I8SQxjPbqEp0",
    "outputId": "68b92552-37d7-49d9-ea46-03097f1d2266"
   },
   "outputs": [
    {
     "data": {
      "image/png": "[encoded data removed]",
      "text/plain": [
       "<Figure size 1000x600 with 1 Axes>"
      ]
     },
     "metadata": {},
     "output_type": "display_data"
    }
   ],
   "source": [
    "# Weather\n",
    "dic_weather = {}\n",
    "for weather in data['Weather'].unique():\n",
    "    dic_weather[weather] = data[data['Weather'] == weather].shape[0]\n",
    "\n",
    "data_weather = pd.Series(dict(sorted(dic_weather.items(), key=lambda item: item[1])))\n",
    "plot_weather = data_weather.plot(kind = 'barh', figsize=(10,6), title='Weather')"
   ]
  },
  {
   "cell_type": "markdown",
   "metadata": {
    "id": "x8Fb0crrqEp0"
   },
   "source": [
    "Gộp các giá trị của **Weather** thành các giá trị: *Sunny*, *Clear*, *Cloudy*, *Rain*, *Mist* và *Overcast*"
   ]
  },
  {
   "cell_type": "code",
   "execution_count": 15,
   "metadata": {
    "colab": {
     "base_uri": "https://localhost:8080/"
    },
    "executionInfo": {
     "elapsed": 428,
     "status": "ok",
     "timestamp": 1734838912845,
     "user": {
      "displayName": "hoahop Doan",
      "userId": "00193743421720716536"
     },
     "user_tz": -420
    },
    "id": "TSIqQ7lm8lPZ",
    "outputId": "cbcf17d5-c709-49bc-b120-0ca84cc899e2"
   },
   "outputs": [
    {
     "name": "stdout",
     "output_type": "stream",
     "text": [
      "Weather\n",
      "Partly cloudy                          13513\n",
      "Clear                                   5139\n",
      "Sunny                                   4887\n",
      "Patchy rain possible                    2594\n",
      "Cloudy                                  1928\n",
      "Moderate or heavy rain shower           1676\n",
      "Light rain shower                       1603\n",
      "Mist                                    1229\n",
      "Overcast                                 596\n",
      "Thundery outbreaks possible              413\n",
      "Torrential rain shower                   283\n",
      "Fog                                      266\n",
      "Patchy light drizzle                     180\n",
      "Patchy light rain with thunder           130\n",
      "Moderate rain at times                   119\n",
      "Light rain                               101\n",
      "Patchy light rain                         99\n",
      "Light drizzle                             90\n",
      "Moderate rain                             65\n",
      "Heavy rain                                33\n",
      "Heavy rain at times                       30\n",
      "Moderate or heavy rain with thunder        2\n",
      "Name: count, dtype: int64\n"
     ]
    }
   ],
   "source": [
    "value_counts = data['Weather'].value_counts()\n",
    "print(value_counts)\n"
   ]
  },
  {
   "cell_type": "code",
   "execution_count": 16,
   "metadata": {
    "colab": {
     "base_uri": "https://localhost:8080/"
    },
    "executionInfo": {
     "elapsed": 446,
     "status": "ok",
     "timestamp": 1734838915277,
     "user": {
      "displayName": "hoahop Doan",
      "userId": "00193743421720716536"
     },
     "user_tz": -420
    },
    "id": "K8O0phtgqEp0",
    "outputId": "84267e88-91d4-4478-9c8f-5422e6af6e59"
   },
   "outputs": [
    {
     "data": {
      "text/plain": [
       "array(['Mist', 'Rain', 'Cloudy', 'Sunny', 'Clear', 'Overcast'],\n",
       "      dtype=object)"
      ]
     },
     "execution_count": 16,
     "metadata": {},
     "output_type": "execute_result"
    }
   ],
   "source": [
    "def convert_weather(x):\n",
    "    if ('rain' in x) or ('drizzle' in x) or ('Thundery' in x):\n",
    "        return 'Rain'\n",
    "    if x == 'Fog':\n",
    "        return 'Mist'\n",
    "    if x == 'Partly cloudy':\n",
    "        return 'Cloudy'\n",
    "\n",
    "    return x\n",
    "\n",
    "data['Weather'] = data['Weather'].apply(convert_weather)\n",
    "data['Weather'].unique()"
   ]
  },
  {
   "cell_type": "code",
   "execution_count": 17,
   "metadata": {
    "colab": {
     "base_uri": "https://localhost:8080/",
     "height": 545
    },
    "executionInfo": {
     "elapsed": 357,
     "status": "ok",
     "timestamp": 1734838917549,
     "user": {
      "displayName": "hoahop Doan",
      "userId": "00193743421720716536"
     },
     "user_tz": -420
    },
    "id": "0ypuowXLqEp1",
    "outputId": "7698c2bc-b267-4d48-e333-c47e9c4df937"
   },
   "outputs": [
    {
     "data": {
      "image/png": "[encoded data removed]",
      "text/plain": [
       "<Figure size 1000x600 with 1 Axes>"
      ]
     },
     "metadata": {},
     "output_type": "display_data"
    }
   ],
   "source": [
    "# Tầm nhìn\n",
    "dic_vis = {}\n",
    "for vis in data['Vis'].unique():\n",
    "    dic_vis[vis] = data[data['Vis'] == vis].shape[0]\n",
    "data_vis = pd.Series(dict(sorted(dic_vis.items(), key=lambda item: item[1])))\n",
    "plot_vis = data_vis.plot(kind='barh', figsize=(10,6), title='Vision')"
   ]
  },
  {
   "cell_type": "code",
   "execution_count": 18,
   "metadata": {
    "colab": {
     "base_uri": "https://localhost:8080/",
     "height": 545
    },
    "executionInfo": {
     "elapsed": 747,
     "status": "ok",
     "timestamp": 1734838920768,
     "user": {
      "displayName": "hoahop Doan",
      "userId": "00193743421720716536"
     },
     "user_tz": -420
    },
    "id": "VqpGo9R3qEp1",
    "outputId": "9904c30f-53b0-4928-bf33-c9f48aa9aaca"
   },
   "outputs": [
    {
     "data": {
      "image/png": "[encoded data removed]",
      "text/plain": [
       "<Figure size 1000x600 with 1 Axes>"
      ]
     },
     "metadata": {},
     "output_type": "display_data"
    }
   ],
   "source": [
    "# Hướng gió\n",
    "dic_wind_dir = {}\n",
    "for wind_dir in data['Wind Direction'].unique():\n",
    "    dic_wind_dir[wind_dir] = data[data['Wind Direction'] == wind_dir].shape[0]\n",
    "\n",
    "data_wind_dir = pd.Series(dict(sorted(dic_wind_dir.items(), key=lambda item: item[1])))\n",
    "plot_wind_dir = data_wind_dir.plot(kind='barh', figsize=(10,6), title='Wind Direction')"
   ]
  },
  {
   "cell_type": "markdown",
   "metadata": {
    "id": "Qf3VGbPgqEp1"
   },
   "source": [
    "**Dữ liệu sau khi tiền xử lý**"
   ]
  },
  {
   "cell_type": "code",
   "execution_count": 19,
   "metadata": {
    "colab": {
     "base_uri": "https://localhost:8080/",
     "height": 363
    },
    "executionInfo": {
     "elapsed": 429,
     "status": "ok",
     "timestamp": 1734838923929,
     "user": {
      "displayName": "hoahop Doan",
      "userId": "00193743421720716536"
     },
     "user_tz": -420
    },
    "id": "ftKs3t8MqEp1",
    "outputId": "37f4aed6-fd0a-4708-fe93-02ae73093add"
   },
   "outputs": [
    {
     "data": {
      "application/vnd.microsoft.datawrangler.viewer.v0+json": {
       "columns": [
        {
         "name": "index",
         "rawType": "int64",
         "type": "integer"
        },
        {
         "name": "Date",
         "rawType": "object",
         "type": "string"
        },
        {
         "name": "Time",
         "rawType": "object",
         "type": "string"
        },
        {
         "name": "Weather",
         "rawType": "object",
         "type": "string"
        },
        {
         "name": "Temp",
         "rawType": "float64",
         "type": "float"
        },
        {
         "name": "Feels",
         "rawType": "float64",
         "type": "float"
        },
        {
         "name": "Gust",
         "rawType": "float64",
         "type": "float"
        },
        {
         "name": "Rain",
         "rawType": "float64",
         "type": "float"
        },
        {
         "name": "Humidity",
         "rawType": "float64",
         "type": "float"
        },
        {
         "name": "Cloud",
         "rawType": "float64",
         "type": "float"
        },
        {
         "name": "Pressure",
         "rawType": "float64",
         "type": "float"
        },
        {
         "name": "Vis",
         "rawType": "object",
         "type": "string"
        },
        {
         "name": "Wind Speed",
         "rawType": "float64",
         "type": "float"
        },
        {
         "name": "Wind Direction",
         "rawType": "object",
         "type": "string"
        }
       ],
       "ref": "598504a7-a48e-4918-9003-5e46f69d0e06",
       "rows": [
        [
         "0",
         "Thu 01, Jan 2009",
         "00:00",
         "Mist",
         "23.0",
         "25.0",
         "15.0",
         "0.0",
         "0.97",
         "1.0",
         "1010.0",
         "Poor",
         "9.0",
         "NNW"
        ],
        [
         "1",
         "Thu 01, Jan 2009",
         "03:00",
         "Rain",
         "22.0",
         "25.0",
         "13.0",
         "0.4",
         "0.97",
         "0.84",
         "1010.0",
         "Poor",
         "9.0",
         "NNW"
        ],
        [
         "2",
         "Thu 01, Jan 2009",
         "06:00",
         "Mist",
         "22.0",
         "25.0",
         "8.0",
         "0.0",
         "0.98",
         "1.0",
         "1011.0",
         "Poor",
         "6.0",
         "N"
        ],
        [
         "3",
         "Thu 01, Jan 2009",
         "09:00",
         "Cloudy",
         "27.0",
         "31.0",
         "7.0",
         "0.1",
         "0.83",
         "0.64",
         "1011.0",
         "Excellent",
         "6.0",
         "NNE"
        ],
        [
         "4",
         "Thu 01, Jan 2009",
         "12:00",
         "Cloudy",
         "28.0",
         "34.0",
         "3.0",
         "0.0",
         "0.76",
         "0.62",
         "1010.0",
         "Excellent",
         "3.0",
         "NE"
        ],
        [
         "5",
         "Thu 01, Jan 2009",
         "15:00",
         "Rain",
         "27.0",
         "32.0",
         "4.0",
         "3.1",
         "0.83",
         "0.74",
         "1009.0",
         "Good",
         "2.0",
         "NNE"
        ],
        [
         "6",
         "Thu 01, Jan 2009",
         "18:00",
         "Cloudy",
         "24.0",
         "27.0",
         "14.0",
         "0.0",
         "0.91",
         "0.73",
         "1010.0",
         "Excellent",
         "7.0",
         "NW"
        ],
        [
         "7",
         "Thu 01, Jan 2009",
         "21:00",
         "Rain",
         "23.0",
         "26.0",
         "18.0",
         "1.6",
         "0.91",
         "0.32",
         "1012.0",
         "Excellent",
         "10.0",
         "NNE"
        ],
        [
         "8",
         "Fri 02, Jan 2009",
         "00:00",
         "Cloudy",
         "22.0",
         "22.0",
         "14.0",
         "0.0",
         "0.91",
         "0.3",
         "1011.0",
         "Excellent",
         "8.0",
         "N"
        ],
        [
         "9",
         "Fri 02, Jan 2009",
         "03:00",
         "Cloudy",
         "21.0",
         "22.0",
         "16.0",
         "0.0",
         "0.91",
         "0.72",
         "1010.0",
         "Excellent",
         "9.0",
         "N"
        ]
       ],
       "shape": {
        "columns": 13,
        "rows": 10
       }
      },
      "text/html": [
       "<div>\n",
       "<style scoped>\n",
       "    .dataframe tbody tr th:only-of-type {\n",
       "        vertical-align: middle;\n",
       "    }\n",
       "\n",
       "    .dataframe tbody tr th {\n",
       "        vertical-align: top;\n",
       "    }\n",
       "\n",
       "    .dataframe thead th {\n",
       "        text-align: right;\n",
       "    }\n",
       "</style>\n",
       "<table border=\"1\" class=\"dataframe\">\n",
       "  <thead>\n",
       "    <tr style=\"text-align: right;\">\n",
       "      <th></th>\n",
       "      <th>Date</th>\n",
       "      <th>Time</th>\n",
       "      <th>Weather</th>\n",
       "      <th>Temp</th>\n",
       "      <th>Feels</th>\n",
       "      <th>Gust</th>\n",
       "      <th>Rain</th>\n",
       "      <th>Humidity</th>\n",
       "      <th>Cloud</th>\n",
       "      <th>Pressure</th>\n",
       "      <th>Vis</th>\n",
       "      <th>Wind Speed</th>\n",
       "      <th>Wind Direction</th>\n",
       "    </tr>\n",
       "  </thead>\n",
       "  <tbody>\n",
       "    <tr>\n",
       "      <th>0</th>\n",
       "      <td>Thu 01, Jan 2009</td>\n",
       "      <td>00:00</td>\n",
       "      <td>Mist</td>\n",
       "      <td>23.0</td>\n",
       "      <td>25.0</td>\n",
       "      <td>15.0</td>\n",
       "      <td>0.0</td>\n",
       "      <td>0.97</td>\n",
       "      <td>1.00</td>\n",
       "      <td>1010.0</td>\n",
       "      <td>Poor</td>\n",
       "      <td>9.0</td>\n",
       "      <td>NNW</td>\n",
       "    </tr>\n",
       "    <tr>\n",
       "      <th>1</th>\n",
       "      <td>Thu 01, Jan 2009</td>\n",
       "      <td>03:00</td>\n",
       "      <td>Rain</td>\n",
       "      <td>22.0</td>\n",
       "      <td>25.0</td>\n",
       "      <td>13.0</td>\n",
       "      <td>0.4</td>\n",
       "      <td>0.97</td>\n",
       "      <td>0.84</td>\n",
       "      <td>1010.0</td>\n",
       "      <td>Poor</td>\n",
       "      <td>9.0</td>\n",
       "      <td>NNW</td>\n",
       "    </tr>\n",
       "    <tr>\n",
       "      <th>2</th>\n",
       "      <td>Thu 01, Jan 2009</td>\n",
       "      <td>06:00</td>\n",
       "      <td>Mist</td>\n",
       "      <td>22.0</td>\n",
       "      <td>25.0</td>\n",
       "      <td>8.0</td>\n",
       "      <td>0.0</td>\n",
       "      <td>0.98</td>\n",
       "      <td>1.00</td>\n",
       "      <td>1011.0</td>\n",
       "      <td>Poor</td>\n",
       "      <td>6.0</td>\n",
       "      <td>N</td>\n",
       "    </tr>\n",
       "    <tr>\n",
       "      <th>3</th>\n",
       "      <td>Thu 01, Jan 2009</td>\n",
       "      <td>09:00</td>\n",
       "      <td>Cloudy</td>\n",
       "      <td>27.0</td>\n",
       "      <td>31.0</td>\n",
       "      <td>7.0</td>\n",
       "      <td>0.1</td>\n",
       "      <td>0.83</td>\n",
       "      <td>0.64</td>\n",
       "      <td>1011.0</td>\n",
       "      <td>Excellent</td>\n",
       "      <td>6.0</td>\n",
       "      <td>NNE</td>\n",
       "    </tr>\n",
       "    <tr>\n",
       "      <th>4</th>\n",
       "      <td>Thu 01, Jan 2009</td>\n",
       "      <td>12:00</td>\n",
       "      <td>Cloudy</td>\n",
       "      <td>28.0</td>\n",
       "      <td>34.0</td>\n",
       "      <td>3.0</td>\n",
       "      <td>0.0</td>\n",
       "      <td>0.76</td>\n",
       "      <td>0.62</td>\n",
       "      <td>1010.0</td>\n",
       "      <td>Excellent</td>\n",
       "      <td>3.0</td>\n",
       "      <td>NE</td>\n",
       "    </tr>\n",
       "    <tr>\n",
       "      <th>5</th>\n",
       "      <td>Thu 01, Jan 2009</td>\n",
       "      <td>15:00</td>\n",
       "      <td>Rain</td>\n",
       "      <td>27.0</td>\n",
       "      <td>32.0</td>\n",
       "      <td>4.0</td>\n",
       "      <td>3.1</td>\n",
       "      <td>0.83</td>\n",
       "      <td>0.74</td>\n",
       "      <td>1009.0</td>\n",
       "      <td>Good</td>\n",
       "      <td>2.0</td>\n",
       "      <td>NNE</td>\n",
       "    </tr>\n",
       "    <tr>\n",
       "      <th>6</th>\n",
       "      <td>Thu 01, Jan 2009</td>\n",
       "      <td>18:00</td>\n",
       "      <td>Cloudy</td>\n",
       "      <td>24.0</td>\n",
       "      <td>27.0</td>\n",
       "      <td>14.0</td>\n",
       "      <td>0.0</td>\n",
       "      <td>0.91</td>\n",
       "      <td>0.73</td>\n",
       "      <td>1010.0</td>\n",
       "      <td>Excellent</td>\n",
       "      <td>7.0</td>\n",
       "      <td>NW</td>\n",
       "    </tr>\n",
       "    <tr>\n",
       "      <th>7</th>\n",
       "      <td>Thu 01, Jan 2009</td>\n",
       "      <td>21:00</td>\n",
       "      <td>Rain</td>\n",
       "      <td>23.0</td>\n",
       "      <td>26.0</td>\n",
       "      <td>18.0</td>\n",
       "      <td>1.6</td>\n",
       "      <td>0.91</td>\n",
       "      <td>0.32</td>\n",
       "      <td>1012.0</td>\n",
       "      <td>Excellent</td>\n",
       "      <td>10.0</td>\n",
       "      <td>NNE</td>\n",
       "    </tr>\n",
       "    <tr>\n",
       "      <th>8</th>\n",
       "      <td>Fri 02, Jan 2009</td>\n",
       "      <td>00:00</td>\n",
       "      <td>Cloudy</td>\n",
       "      <td>22.0</td>\n",
       "      <td>22.0</td>\n",
       "      <td>14.0</td>\n",
       "      <td>0.0</td>\n",
       "      <td>0.91</td>\n",
       "      <td>0.30</td>\n",
       "      <td>1011.0</td>\n",
       "      <td>Excellent</td>\n",
       "      <td>8.0</td>\n",
       "      <td>N</td>\n",
       "    </tr>\n",
       "    <tr>\n",
       "      <th>9</th>\n",
       "      <td>Fri 02, Jan 2009</td>\n",
       "      <td>03:00</td>\n",
       "      <td>Cloudy</td>\n",
       "      <td>21.0</td>\n",
       "      <td>22.0</td>\n",
       "      <td>16.0</td>\n",
       "      <td>0.0</td>\n",
       "      <td>0.91</td>\n",
       "      <td>0.72</td>\n",
       "      <td>1010.0</td>\n",
       "      <td>Excellent</td>\n",
       "      <td>9.0</td>\n",
       "      <td>N</td>\n",
       "    </tr>\n",
       "  </tbody>\n",
       "</table>\n",
       "</div>"
      ],
      "text/plain": [
       "               Date   Time Weather  Temp  Feels  Gust  Rain  Humidity  Cloud  \\\n",
       "0  Thu 01, Jan 2009  00:00    Mist  23.0   25.0  15.0   0.0      0.97   1.00   \n",
       "1  Thu 01, Jan 2009  03:00    Rain  22.0   25.0  13.0   0.4      0.97   0.84   \n",
       "2  Thu 01, Jan 2009  06:00    Mist  22.0   25.0   8.0   0.0      0.98   1.00   \n",
       "3  Thu 01, Jan 2009  09:00  Cloudy  27.0   31.0   7.0   0.1      0.83   0.64   \n",
       "4  Thu 01, Jan 2009  12:00  Cloudy  28.0   34.0   3.0   0.0      0.76   0.62   \n",
       "5  Thu 01, Jan 2009  15:00    Rain  27.0   32.0   4.0   3.1      0.83   0.74   \n",
       "6  Thu 01, Jan 2009  18:00  Cloudy  24.0   27.0  14.0   0.0      0.91   0.73   \n",
       "7  Thu 01, Jan 2009  21:00    Rain  23.0   26.0  18.0   1.6      0.91   0.32   \n",
       "8  Fri 02, Jan 2009  00:00  Cloudy  22.0   22.0  14.0   0.0      0.91   0.30   \n",
       "9  Fri 02, Jan 2009  03:00  Cloudy  21.0   22.0  16.0   0.0      0.91   0.72   \n",
       "\n",
       "   Pressure        Vis  Wind Speed Wind Direction  \n",
       "0    1010.0       Poor         9.0            NNW  \n",
       "1    1010.0       Poor         9.0            NNW  \n",
       "2    1011.0       Poor         6.0              N  \n",
       "3    1011.0  Excellent         6.0            NNE  \n",
       "4    1010.0  Excellent         3.0             NE  \n",
       "5    1009.0       Good         2.0            NNE  \n",
       "6    1010.0  Excellent         7.0             NW  \n",
       "7    1012.0  Excellent        10.0            NNE  \n",
       "8    1011.0  Excellent         8.0              N  \n",
       "9    1010.0  Excellent         9.0              N  "
      ]
     },
     "execution_count": 19,
     "metadata": {},
     "output_type": "execute_result"
    }
   ],
   "source": [
    "data.head(10)"
   ]
  },
  {
   "cell_type": "markdown",
   "metadata": {
    "id": "zG0yeL0rqEp1"
   },
   "source": [
    "**Ghi vào file csv**"
   ]
  },
  {
   "cell_type": "markdown",
   "metadata": {
    "id": "XqbbrYOEqEp2"
   },
   "source": [
    "**Tiền xử lý dữ liệu**"
   ]
  },
  {
   "cell_type": "code",
   "execution_count": 20,
   "metadata": {
    "colab": {
     "base_uri": "https://localhost:8080/"
    },
    "executionInfo": {
     "elapsed": 337,
     "status": "ok",
     "timestamp": 1734838926929,
     "user": {
      "displayName": "hoahop Doan",
      "userId": "00193743421720716536"
     },
     "user_tz": -420
    },
    "id": "oeZhQP6GqEp7",
    "outputId": "f8c3e266-3af9-4192-8d50-fdfcdcfb6aee"
   },
   "outputs": [
    {
     "data": {
      "text/plain": [
       "array(['Jan', 'Feb', 'Mar', 'Apr', 'May', 'Jun', 'Jul', 'Aug', 'Sep',\n",
       "       'Oct', 'Nov', 'Dec'], dtype=object)"
      ]
     },
     "execution_count": 20,
     "metadata": {},
     "output_type": "execute_result"
    }
   ],
   "source": [
    "# Tạo cột Month từ cột Date\n",
    "data['Month'] = data['Date'].str.split(' ', expand=True)[2]\n",
    "data['Month'].unique()"
   ]
  },
  {
   "cell_type": "markdown",
   "metadata": {
    "id": "aKql_s36qEp7"
   },
   "source": [
    "# Phân tích dữ liệu "
   ]
  },
  {
   "cell_type": "markdown",
   "metadata": {
    "id": "V-29JrAJfsSG"
   },
   "source": [
    "#Bản đồ nhiệt\n"
   ]
  },
  {
   "cell_type": "code",
   "execution_count": 23,
   "metadata": {
    "colab": {
     "base_uri": "https://localhost:8080/",
     "height": 468
    },
    "executionInfo": {
     "elapsed": 890,
     "status": "ok",
     "timestamp": 1734839108004,
     "user": {
      "displayName": "hoahop Doan",
      "userId": "00193743421720716536"
     },
     "user_tz": -420
    },
    "id": "SGBXOyIXqEp7",
    "outputId": "66adfa9d-5877-407a-8632-f9e5b3dc4cd0"
   },
   "outputs": [
    {
     "data": {
      "image/png": "[encoded data removed]",
      "text/plain": [
       "<Figure size 1500x500 with 1 Axes>"
      ]
     },
     "metadata": {},
     "output_type": "display_data"
    }
   ],
   "source": [
    "# Tạo một dictionary để lưu nhiệt độ trung bình của từng tháng\n",
    "dic = {}\n",
    "\n",
    "# Tính nhiệt độ trung bình cho mỗi tháng\n",
    "for month in data['Month'].unique():\n",
    "    dic[month] = data[data['Month'] == month]['Temp'].mean()\n",
    "\n",
    "# Chuyển đổi dictionary thành một Series của Pandas\n",
    "mean_temp_of_months = pd.Series(dic)\n",
    "\n",
    "# Vẽ biểu đồ cột\n",
    "temp_plot = mean_temp_of_months.plot(kind='bar', figsize=(15, 5), title='Nhiệt độ trung bình hàng tháng ở thành phố Hồ Chí Minh')\n",
    "temp_plot.set_ylabel('Độ C')\n",
    "plt.xticks(rotation=0)\n",
    "\n",
    "# Ghi chú nhiệt độ thấp nhất và cao nhất\n",
    "min_month = mean_temp_of_months.idxmin()\n",
    "max_month = mean_temp_of_months.idxmax()\n",
    "min_temp = mean_temp_of_months.min()\n",
    "max_temp = mean_temp_of_months.max()\n",
    "\n",
    "# Thêm chú thích cho các điểm nhiệt độ thấp nhất và cao nhất\n",
    "plt.text(mean_temp_of_months.index.get_loc(min_month), min_temp + 0.2, f'{min_temp:.1f}°C', ha='center', color='black')\n",
    "plt.text(mean_temp_of_months.index.get_loc(max_month), max_temp + 0.2, f'{max_temp:.1f}°C', ha='center', color='black')\n",
    "\n",
    "# Thêm chú giải cho biểu đồ\n",
    "plt.legend(['Avg Temp', f'Thấp nhất: {min_temp:.1f}°C ({min_month})', f'Cao nhất: {max_temp:.1f}°C ({max_month})'], loc='upper right')\n",
    "\n",
    "# Hiển thị biểu đồ\n",
    "plt.show()\n"
   ]
  },
  {
   "cell_type": "markdown",
   "metadata": {
    "id": "8g7bSp05qEp7"
   },
   "source": [
    "<h4> Nhiệt độ trung bình cao nhất của Temp là vào tháng 4 (April). Nhưng nhìn chung nhiệt độ TPHCM phân bố khá đều qua các tháng trong năm.</h4>\n",
    "<h4> Nhiệt độ trung bình thấp nhất của Temp là vào tháng 12 (Dec). Nhưng nhìn chung nhiệt độ TPHCM phân bố khá đều qua các tháng trong năm.</h4>"
   ]
  },
  {
   "cell_type": "markdown",
   "metadata": {
    "id": "SWcqxGaHYkLW"
   },
   "source": [
    "## Dữ liệu mưa"
   ]
  },
  {
   "cell_type": "code",
   "execution_count": 24,
   "metadata": {
    "colab": {
     "base_uri": "https://localhost:8080/",
     "height": 468
    },
    "executionInfo": {
     "elapsed": 372,
     "status": "ok",
     "timestamp": 1734839148839,
     "user": {
      "displayName": "hoahop Doan",
      "userId": "00193743421720716536"
     },
     "user_tz": -420
    },
    "id": "R5B984CmYNtM",
    "outputId": "98459de5-cfb7-47b6-90a4-5ddf4e7baf18"
   },
   "outputs": [
    {
     "data": {
      "image/png": "[encoded data removed]",
      "text/plain": [
       "<Figure size 1500x500 with 1 Axes>"
      ]
     },
     "metadata": {},
     "output_type": "display_data"
    }
   ],
   "source": [
    "# Tạo từ điển chứa tổng lượng mưa theo tháng\n",
    "dic = {}\n",
    "\n",
    "for month in data['Month'].unique():\n",
    "    dic[month] = data[data['Month'] == month]['Rain'].sum()\n",
    "\n",
    "rain_of_months = pd.Series(dic)\n",
    "\n",
    "# Vẽ biểu đồ cột\n",
    "temp_plot = rain_of_months.plot(kind='bar', figsize=(15, 5), title='Lượng mưa tháng ở TP.HCM')\n",
    "temp_plot.set_ylabel('mm')\n",
    "plt.xticks(rotation=0)\n",
    "\n",
    "# Thêm chú thích cho độ cao và thấp\n",
    "max_rain_month = rain_of_months.idxmax()  # Tháng có lượng mưa cao nhất\n",
    "max_rain_value = rain_of_months.max()     # Lượng mưa cao nhất\n",
    "\n",
    "min_rain_month = rain_of_months.idxmin()  # Tháng có lượng mưa thấp nhất\n",
    "min_rain_value = rain_of_months.min()     # Lượng mưa thấp nhất\n",
    "\n",
    "# Thêm văn bản cho các thanh với lượng mưa cao nhất và thấp nhất\n",
    "plt.text(rain_of_months.index.get_loc(max_rain_month), max_rain_value + 10, f'{max_rain_value} mm', ha='center', color='black', fontsize=12)\n",
    "plt.text(rain_of_months.index.get_loc(min_rain_month), min_rain_value - 10, f'{min_rain_value} mm', ha='center', color='black', fontsize=12)\n",
    "\n",
    "# Hiển thị biểu đồ\n",
    "plt.show()\n"
   ]
  },
  {
   "cell_type": "markdown",
   "metadata": {
    "id": "UDasJTRTqEp8"
   },
   "source": [
    "<h4> Lượng mưa của tháng 2 (Feb) thấp nhất trong  </h4>\n",
    "<h4> Lương mưa của tháng 9 (Sep) cao nhất trong năm </h4>"
   ]
  }
 ],
 "metadata": {
  "colab": {
   "provenance": []
  },
  "kernelspec": {
   "display_name": "myenv",
   "language": "python",
   "name": "python3"
  },
  "language_info": {
   "codemirror_mode": {
    "name": "ipython",
    "version": 3
   },
   "file_extension": ".py",
   "mimetype": "text/x-python",
   "name": "python",
   "nbconvert_exporter": "python",
   "pygments_lexer": "ipython3",
   "version": "3.10.17"
  }
 },
 "nbformat": 4,
 "nbformat_minor": 0
}
